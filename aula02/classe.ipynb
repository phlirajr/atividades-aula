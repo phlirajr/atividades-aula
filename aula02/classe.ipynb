{
 "cells": [
  {
   "cell_type": "code",
   "execution_count": 11,
   "metadata": {},
   "outputs": [],
   "source": [
    "idade1 = int(input(\"Digite sua idade: \"))\n",
    "idade2 = int(input(\"Digite sua idade: \"))"
   ]
  },
  {
   "cell_type": "code",
   "execution_count": 12,
   "metadata": {},
   "outputs": [
    {
     "data": {
      "text/plain": [
       "34"
      ]
     },
     "execution_count": 12,
     "metadata": {},
     "output_type": "execute_result"
    }
   ],
   "source": [
    "2 * (idade1 + idade2)"
   ]
  },
  {
   "cell_type": "code",
   "execution_count": 13,
   "metadata": {},
   "outputs": [
    {
     "data": {
      "text/plain": [
       "31.5"
      ]
     },
     "execution_count": 13,
     "metadata": {},
     "output_type": "execute_result"
    }
   ],
   "source": [
    "2 * idade1 + 3*idade2 / 4"
   ]
  },
  {
   "cell_type": "code",
   "execution_count": 14,
   "metadata": {},
   "outputs": [
    {
     "data": {
      "text/plain": [
       "9.0"
      ]
     },
     "execution_count": 14,
     "metadata": {},
     "output_type": "execute_result"
    }
   ],
   "source": [
    "(2 * idade1 + 3*idade2) / 4"
   ]
  },
  {
   "cell_type": "code",
   "execution_count": 15,
   "metadata": {},
   "outputs": [
    {
     "data": {
      "text/plain": [
       "225"
      ]
     },
     "execution_count": 15,
     "metadata": {},
     "output_type": "execute_result"
    }
   ],
   "source": [
    "idade1 ** 2\n",
    "15**2"
   ]
  },
  {
   "cell_type": "code",
   "execution_count": 16,
   "metadata": {},
   "outputs": [
    {
     "data": {
      "text/plain": [
       "0"
      ]
     },
     "execution_count": 16,
     "metadata": {},
     "output_type": "execute_result"
    }
   ],
   "source": [
    "idade2 // idade1"
   ]
  },
  {
   "cell_type": "code",
   "execution_count": 17,
   "metadata": {},
   "outputs": [
    {
     "data": {
      "text/plain": [
       "0.13333333333333333"
      ]
     },
     "execution_count": 17,
     "metadata": {},
     "output_type": "execute_result"
    }
   ],
   "source": [
    "idade2/idade1"
   ]
  },
  {
   "cell_type": "code",
   "execution_count": 18,
   "metadata": {},
   "outputs": [
    {
     "data": {
      "text/plain": [
       "2"
      ]
     },
     "execution_count": 18,
     "metadata": {},
     "output_type": "execute_result"
    }
   ],
   "source": [
    "idade2 % idade1"
   ]
  },
  {
   "cell_type": "code",
   "execution_count": 20,
   "metadata": {},
   "outputs": [],
   "source": [
    "nome = 'Paulo'\n",
    "sobrenome = 'Henrique'"
   ]
  },
  {
   "cell_type": "code",
   "execution_count": 21,
   "metadata": {},
   "outputs": [
    {
     "name": "stdout",
     "output_type": "stream",
     "text": [
      "Paulo Henrique\n"
     ]
    }
   ],
   "source": [
    "print(nome, sobrenome)"
   ]
  },
  {
   "cell_type": "code",
   "execution_count": 23,
   "metadata": {},
   "outputs": [
    {
     "name": "stdout",
     "output_type": "stream",
     "text": [
      "Olá, Paulo você tem 30 anos.\n"
     ]
    }
   ],
   "source": [
    "print('Olá,',nome,'você tem',idade1 + 15,'anos.')"
   ]
  },
  {
   "cell_type": "code",
   "execution_count": 24,
   "metadata": {},
   "outputs": [
    {
     "name": "stdout",
     "output_type": "stream",
     "text": [
      "Olá, Paulo \n",
      " você tem 30 anos.\n"
     ]
    }
   ],
   "source": [
    "print('Olá,',nome,'\\n','você tem',idade1 + 15,'anos.')"
   ]
  },
  {
   "cell_type": "code",
   "execution_count": 26,
   "metadata": {},
   "outputs": [
    {
     "data": {
      "text/plain": [
       "'Paulo'"
      ]
     },
     "execution_count": 26,
     "metadata": {},
     "output_type": "execute_result"
    }
   ],
   "source": [
    "input('Digite seu nome: ')"
   ]
  },
  {
   "cell_type": "code",
   "execution_count": 27,
   "metadata": {},
   "outputs": [],
   "source": [
    "nome = input('Digite seu nome: ')"
   ]
  },
  {
   "cell_type": "code",
   "execution_count": 30,
   "metadata": {},
   "outputs": [
    {
     "name": "stdout",
     "output_type": "stream",
     "text": [
      "A variável é do tipo <class 'str'>\n",
      "A variável é do tipo <class 'int'>\n"
     ]
    }
   ],
   "source": [
    "num = input('Digite um número: ')\n",
    "print('A variável é do tipo',type(num))\n",
    "num = int(num)\n",
    "print('A variável é do tipo',type(num))"
   ]
  },
  {
   "cell_type": "code",
   "execution_count": 31,
   "metadata": {},
   "outputs": [],
   "source": [
    "valor1 = input('Digite um núemro inteiro: ')\n",
    "valor2 = input('Digite outro núemro inteiro: ')"
   ]
  },
  {
   "cell_type": "code",
   "execution_count": 32,
   "metadata": {},
   "outputs": [
    {
     "name": "stdout",
     "output_type": "stream",
     "text": [
      "False\n",
      "False\n",
      "True\n",
      "False\n",
      "True\n"
     ]
    }
   ],
   "source": [
    "print(valor1 == valor2)\n",
    "print(valor1 > valor2)\n",
    "print(valor1 < valor2)\n",
    "print(valor1 >= valor2)\n",
    "print(valor1 <= valor2)"
   ]
  },
  {
   "cell_type": "code",
   "execution_count": 34,
   "metadata": {},
   "outputs": [
    {
     "name": "stdout",
     "output_type": "stream",
     "text": [
      "False\n"
     ]
    }
   ],
   "source": [
    "numero = 10\n",
    "print(0 < numero < 10)"
   ]
  },
  {
   "cell_type": "code",
   "execution_count": 35,
   "metadata": {},
   "outputs": [
    {
     "name": "stdout",
     "output_type": "stream",
     "text": [
      "True\n"
     ]
    }
   ],
   "source": [
    "numero = 10\n",
    "print(numero > 0 or numero < 10)"
   ]
  },
  {
   "cell_type": "code",
   "execution_count": 41,
   "metadata": {},
   "outputs": [
    {
     "name": "stdout",
     "output_type": "stream",
     "text": [
      "False\n"
     ]
    }
   ],
   "source": [
    "if ():\n",
    "    pass\n",
    "else:\n",
    "    print('False')"
   ]
  },
  {
   "cell_type": "markdown",
   "metadata": {},
   "source": [
    "DESAFIO - CONDICIONAL1"
   ]
  },
  {
   "cell_type": "code",
   "execution_count": 46,
   "metadata": {},
   "outputs": [
    {
     "name": "stdout",
     "output_type": "stream",
     "text": [
      "60 é PAR\n"
     ]
    }
   ],
   "source": [
    "num = int(input('Digite um número: '))\n",
    "if num % 2 == 0:\n",
    "    print(f'{num} é PAR')\n",
    "else:\n",
    "    print(f'{num} é ÍMPAR')"
   ]
  },
  {
   "cell_type": "code",
   "execution_count": 47,
   "metadata": {},
   "outputs": [],
   "source": [
    "cupom = input('digite o cupom: ')"
   ]
  },
  {
   "cell_type": "code",
   "execution_count": 48,
   "metadata": {},
   "outputs": [
    {
     "name": "stdout",
     "output_type": "stream",
     "text": [
      "cupom inválido\n"
     ]
    }
   ],
   "source": [
    "if cupom == 'aula1' or cupom == 'aula2':\n",
    "    print('você ganhou 10% de desconto')\n",
    "else:\n",
    "    print('cupom inválido')"
   ]
  },
  {
   "cell_type": "markdown",
   "metadata": {},
   "source": [
    "DESAFIO - CONDICIONAL COMPOSTA"
   ]
  },
  {
   "cell_type": "code",
   "execution_count": 49,
   "metadata": {},
   "outputs": [
    {
     "name": "stdout",
     "output_type": "stream",
     "text": [
      "você ganhou 5% de desconto\n"
     ]
    }
   ],
   "source": [
    "entrada = input('Digite o nome do cupom: ')\n",
    "if entrada == 'aula1' or entrada == 'aula2':\n",
    "    print('você ganhou 15% de desconto')\n",
    "else:\n",
    "    print('você ganhou 5% de desconto')"
   ]
  },
  {
   "cell_type": "markdown",
   "metadata": {},
   "source": [
    "DESAFIO - CONDICIONAL COMPOSTA"
   ]
  },
  {
   "cell_type": "code",
   "execution_count": 20,
   "metadata": {},
   "outputs": [
    {
     "name": "stdout",
     "output_type": "stream",
     "text": [
      "cupom digitado: aula2. Você ganhou 10% de desconto.\n"
     ]
    }
   ],
   "source": [
    "cupom = input('Digite o nome do cupom: ')\n",
    "if cupom == 'aula1':\n",
    "    print('cupom digitado:',cupom,'-> você ganhou um desconto de 15%')\n",
    "elif cupom == 'aula2':\n",
    "    print(f'cupom digitado: {cupom}. Você ganhou 10% de desconto.') \n",
    "else:\n",
    "    print('cupom digitado:',cupom,'-> você recebeu um desconto de 5%')"
   ]
  },
  {
   "cell_type": "markdown",
   "metadata": {},
   "source": [
    "DESAFIO - PRÁTICA ACUMULADA"
   ]
  },
  {
   "cell_type": "code",
   "execution_count": 12,
   "metadata": {},
   "outputs": [
    {
     "name": "stdout",
     "output_type": "stream",
     "text": [
      "OBA, vamos à praia!\n"
     ]
    }
   ],
   "source": [
    "hobby = input('Digite \"sim\" para ir à praia ou \"não\" se deseja ficar em casa: ')\n",
    "dinheiro = input('Tá com grana? Digite \"sim\" ou \"não\": ')\n",
    "\n",
    "if hobby and dinheiro == 'sim':\n",
    "    print('OBA, vamos à praia!')\n",
    "else:\n",
    "    print('O jeito é maratonar a Netflix')\n"
   ]
  },
  {
   "cell_type": "code",
   "execution_count": 14,
   "metadata": {},
   "outputs": [
    {
     "name": "stdout",
     "output_type": "stream",
     "text": [
      "OBA, vamos à praia!\n"
     ]
    }
   ],
   "source": [
    "sol = input('Digite \"sim\" para ir à praia ou \"não\" se deseja ficar em casa: ')\n",
    "dinheiro = input('Tá com grana? Digite \"sim\" ou \"não\": ')\n",
    "\n",
    "if sol or dinheiro == 'sim':\n",
    "    print('OBA, vamos à praia!')\n",
    "else:\n",
    "    print('O jeito é maratonar a Netflix')"
   ]
  },
  {
   "cell_type": "code",
   "execution_count": 16,
   "metadata": {},
   "outputs": [
    {
     "name": "stdout",
     "output_type": "stream",
     "text": [
      "Vixe, vai ficar só na vontade mesmo!\n"
     ]
    }
   ],
   "source": [
    "hobby = input('Digite \"sim\" se você pretende ir à praia ou \"não\" se deseja ficar em casa: ')\n",
    "dinheiro = input('Tá com grana? Digite \"sim\" ou \"não\": ')\n",
    "\n",
    "if hobby == 'sim':\n",
    "    if dinheiro == 'sim':\n",
    "        print('OBA, vamos à praia!')\n",
    "    else:\n",
    "        print('Vixe, vai ficar só na vontade mesmo!')\n",
    "else:\n",
    "    print('O jeito é maratonar a Netflix')"
   ]
  },
  {
   "cell_type": "code",
   "execution_count": 21,
   "metadata": {},
   "outputs": [
    {
     "data": {
      "text/plain": [
       "True"
      ]
     },
     "execution_count": 21,
     "metadata": {},
     "output_type": "execute_result"
    }
   ],
   "source": [
    "x = 4\n",
    "0 < x < 4\n",
    "x > 0 and x < 5"
   ]
  },
  {
   "cell_type": "markdown",
   "metadata": {},
   "source": [
    "PRÁTICA"
   ]
  },
  {
   "cell_type": "code",
   "execution_count": 2,
   "metadata": {},
   "outputs": [
    {
     "name": "stdout",
     "output_type": "stream",
     "text": [
      "Como o ano de fabricação do carro é 1977, o DETRAN cobrará uma taxa de 1% para transferência. O valor final será de R$ 20096.97\n"
     ]
    }
   ],
   "source": [
    "ano_fab = int(input('Digite ano de fabricação: '))\n",
    "valor = float(input('Digite o preço do veículo: '))\n",
    "\n",
    "if ano_fab < 1990:\n",
    "    print(f'Como o ano de fabricação do carro é {ano_fab}, o DETRAN cobrará uma taxa de 1% para transferência. O valor final será de R$ {valor*1.01:.2f}')\n",
    "else:\n",
    "    print(f'Uma vez que o veículo foi fabricado em {ano_fab}, o DETRAN cobrará uma taxa de 1.5% para transferência. O valor final será de R$ {valor*1.015:.2f}')"
   ]
  },
  {
   "cell_type": "markdown",
   "metadata": {},
   "source": [
    "PRÁTICA"
   ]
  },
  {
   "cell_type": "code",
   "execution_count": 8,
   "metadata": {},
   "outputs": [
    {
     "name": "stdout",
     "output_type": "stream",
     "text": [
      "O funcionário que trabalha no cargo de gerente, recebeu um aumento salarial de 40%. Passando de um salário de R$ 1500.00 para um salário de R$ 2940.00. Um aumento de R$ 600.00\n"
     ]
    }
   ],
   "source": [
    "salario = float(input('Digite o salário do funcionário: '))\n",
    "cargo = input('Digite o cargo do funcionário: ')\n",
    "\n",
    "\n",
    "if cargo == 'Gerente':\n",
    "    novo_salario = salario*1.1\n",
    "    print(f'O funcionário que trabalha no cargo de {cargo}, recebeu um aumento salarial de 10%. Passando de um salário de R$ {salario:.2f} para um salário de R$ {novo_salario:.2f}. Um aumento de R$ {novo_salario - salario:.2f}')\n",
    "elif cargo== 'Engenheiro':\n",
    "    novo_salario = salario*1.2\n",
    "    print(f'O funcionário que trabalha no cargo de {cargo}, recebeu um aumento salarial de 20%. Passando de um salário de R$ {salario:.2f} para um salário de R$ {novo_salario:.2f}. Um aumento de R$ {novo_salario - salario:.2f}')\n",
    "elif cargo == 'Técnico':\n",
    "    novo_salario = salario*1.3\n",
    "    print(f'O funcionário que trabalha no cargo de {cargo}, recebeu um aumento salarial de 30%. Passando de um salário de R$ {salario:.2f} para um salário de R$ {novo_salario*1.3:.2f}. Um aumento de R$ {novo_salario - salario:.2f}')\n",
    "else:\n",
    "    novo_salario = salario*1.4\n",
    "    print(f'O funcionário que trabalha no cargo de {cargo}, recebeu um aumento salarial de 40%. Passando de um salário de R$ {salario:.2f} para um salário de R$ {novo_salario*1.4:.2f}. Um aumento de R$ {novo_salario - salario:.2f}')"
   ]
  }
 ],
 "metadata": {
  "kernelspec": {
   "display_name": "Python 3.10.0 64-bit",
   "language": "python",
   "name": "python3"
  },
  "language_info": {
   "codemirror_mode": {
    "name": "ipython",
    "version": 3
   },
   "file_extension": ".py",
   "mimetype": "text/x-python",
   "name": "python",
   "nbconvert_exporter": "python",
   "pygments_lexer": "ipython3",
   "version": "3.10.0"
  },
  "orig_nbformat": 4,
  "vscode": {
   "interpreter": {
    "hash": "32b087ebe7d51fca6931e9bc956754ea46a9bf5139b676961814778e7c952172"
   }
  }
 },
 "nbformat": 4,
 "nbformat_minor": 2
}
