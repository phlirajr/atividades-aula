{
 "cells": [
  {
   "cell_type": "code",
   "execution_count": 1,
   "metadata": {},
   "outputs": [
    {
     "name": "stdout",
     "output_type": "stream",
     "text": [
      "Help on built-in function append:\n",
      "\n",
      "append(object, /) method of builtins.list instance\n",
      "    Append object to the end of the list.\n",
      "\n"
     ]
    }
   ],
   "source": [
    "lista = []\n",
    "help(lista.append)"
   ]
  },
  {
   "cell_type": "markdown",
   "metadata": {},
   "source": [
    "Funções e Métodos"
   ]
  },
  {
   "cell_type": "code",
   "execution_count": 2,
   "metadata": {},
   "outputs": [
    {
     "name": "stdout",
     "output_type": "stream",
     "text": [
      "Número 0\n",
      "Número 1\n",
      "Número 2\n",
      "Número 3\n",
      "Número 4\n"
     ]
    }
   ],
   "source": [
    "def funcaoLeitura():\n",
    "    for i in range(5):\n",
    "        print('Número', i)\n",
    "\n",
    "funcaoLeitura()"
   ]
  },
  {
   "cell_type": "code",
   "execution_count": 4,
   "metadata": {},
   "outputs": [
    {
     "name": "stdout",
     "output_type": "stream",
     "text": [
      "O primeiro número é: 45\n",
      "O segundo número é: 6\n",
      "O soma dos números é: 51\n"
     ]
    }
   ],
   "source": [
    "def addNum(n1, n2):\n",
    "    print('O primeiro número é:',n1)\n",
    "    print('O segundo número é:',n2)\n",
    "    print('O soma dos números é:',n1+n2)\n",
    "\n",
    "addNum(45, 6)"
   ]
  },
  {
   "cell_type": "markdown",
   "metadata": {},
   "source": [
    "Variável Global e Local\n"
   ]
  },
  {
   "cell_type": "code",
   "execution_count": 9,
   "metadata": {},
   "outputs": [
    {
     "name": "stdout",
     "output_type": "stream",
     "text": [
      "Variável da função Multiplica:  20\n",
      "10\n"
     ]
    }
   ],
   "source": [
    "varGlobal = 10\n",
    "\n",
    "def multiplica(num1, numm2):\n",
    "    varGlobal = (num1 * numm2)\n",
    "    print('Variável da função Multiplica: ',varGlobal)\n",
    "\n",
    "multiplica(5,4)\n",
    "print(varGlobal)"
   ]
  },
  {
   "cell_type": "code",
   "execution_count": 8,
   "metadata": {},
   "outputs": [
    {
     "name": "stdout",
     "output_type": "stream",
     "text": [
      "Variável da função Multiplica:  20\n"
     ]
    }
   ],
   "source": [
    "varGlobal = 10\n",
    "\n",
    "def multiplica(num1, numm2):\n",
    "    varLocal = num1 * numm2\n",
    "    print('Variável da função Multiplica: ',varLocal)\n",
    "\n",
    "multiplica(5,4)"
   ]
  },
  {
   "cell_type": "code",
   "execution_count": null,
   "metadata": {},
   "outputs": [],
   "source": [
    "print(varLocal)"
   ]
  },
  {
   "cell_type": "code",
   "execution_count": 11,
   "metadata": {},
   "outputs": [
    {
     "name": "stdout",
     "output_type": "stream",
     "text": [
      "0\n",
      "1\n",
      "2\n",
      "3\n",
      "4\n"
     ]
    }
   ],
   "source": [
    "for i in range(5) : print(i)"
   ]
  },
  {
   "cell_type": "markdown",
   "metadata": {},
   "source": [
    "Criando uma função com outras funções"
   ]
  },
  {
   "cell_type": "code",
   "execution_count": 12,
   "metadata": {},
   "outputs": [],
   "source": [
    "def separarTexto(texto) : return texto.split()"
   ]
  },
  {
   "cell_type": "code",
   "execution_count": 13,
   "metadata": {},
   "outputs": [],
   "source": [
    "token = separarTexto('Cibele Maria')"
   ]
  },
  {
   "cell_type": "code",
   "execution_count": 14,
   "metadata": {},
   "outputs": [
    {
     "name": "stdout",
     "output_type": "stream",
     "text": [
      "['Cibele', 'Maria']\n"
     ]
    }
   ],
   "source": [
    "print(token)"
   ]
  },
  {
   "cell_type": "code",
   "execution_count": 18,
   "metadata": {},
   "outputs": [],
   "source": [
    "def variosParametros(*parametros):\n",
    "    for n, item in enumerate(parametros):\n",
    "        print(f'O parâmetro {n} é: {item}') \n",
    "    return\n",
    "\n"
   ]
  },
  {
   "cell_type": "code",
   "execution_count": 19,
   "metadata": {},
   "outputs": [
    {
     "name": "stdout",
     "output_type": "stream",
     "text": [
      "O parâmetro 0 é: pitomba\n",
      "O parâmetro 1 é: jambo\n",
      "O parâmetro 2 é: siriguela\n",
      "O parâmetro 3 é: umbu\n"
     ]
    }
   ],
   "source": [
    "variosParametros('pitomba', 'jambo', 'siriguela', 'umbu')"
   ]
  },
  {
   "cell_type": "code",
   "execution_count": 23,
   "metadata": {},
   "outputs": [],
   "source": [
    "import math\n",
    "\n",
    "def numPrimo(num):\n",
    "    if (num%2) == 0 and num>2:\n",
    "        return ('Este número não é primo')\n",
    "    for i in range(3, int(math.sqrt(num))+ 1, 2):\n",
    "        if (num % i) == 0:\n",
    "            return ('Este número não é primo')\n",
    "    return ('Esse número é primo!')"
   ]
  },
  {
   "cell_type": "code",
   "execution_count": 25,
   "metadata": {},
   "outputs": [
    {
     "name": "stdout",
     "output_type": "stream",
     "text": [
      "Esse número é primo!\n"
     ]
    }
   ],
   "source": [
    "print(numPrimo(1))"
   ]
  },
  {
   "cell_type": "code",
   "execution_count": 53,
   "metadata": {},
   "outputs": [],
   "source": [
    "def soma(n1, n2):\n",
    "    return n1 + n2\n",
    "\n",
    "def subtrai(n1, n2):\n",
    "    return n1 - n2\n",
    "\n",
    "def multiplica(n1, n2):\n",
    "    return n1 * n2\n",
    "\n",
    "def divide(n1, n2):\n",
    "    try:\n",
    "        return n1/n2\n",
    "    except ZeroDivisionError:        \n",
    "        return ('Divisão por Zero. Operação Inválida')"
   ]
  },
  {
   "cell_type": "code",
   "execution_count": 58,
   "metadata": {},
   "outputs": [
    {
     "name": "stdout",
     "output_type": "stream",
     "text": [
      "+ ==================== +\n",
      "    MENU DE OPERAÇÕES    \n",
      "+ ==================== +\n",
      "1. SOMA                  \n",
      "2. SUBTRAÇÃO             \n",
      "3. MULTIPLICAÇÃO         \n",
      "4. DIVISÃO               \n",
      "5. SAIR                  \n",
      "+ ==================== +\n",
      "    Operação Encerrada   \n"
     ]
    }
   ],
   "source": [
    "while True:\n",
    "\n",
    "    print('+','='*20,'+')\n",
    "    print('MENU DE OPERAÇÕES'.center(25))\n",
    "    print('+','='*20,'+')\n",
    "    print('1. SOMA'.ljust(25))\n",
    "    print('2. SUBTRAÇÃO'.ljust(25))\n",
    "    print('3. MULTIPLICAÇÃO'.ljust(25))\n",
    "    print('4. DIVISÃO'.ljust(25))\n",
    "    print('5. SAIR'.ljust(25))\n",
    "    print('+','='*20,'+')\n",
    "\n",
    "    op = int(input('Escolha uma opção do MENU DE OPERAÇÕES'))\n",
    "    if op == 5:\n",
    "        print('Operação Encerrada'.center(25))\n",
    "        break\n",
    "    elif op == 1:\n",
    "        n1 = int(input('Digite um número: '))\n",
    "        n2 = int(input('Digite um segundo número: '))\n",
    "        print(f'{n1} + {n2} = {soma(n1,n2)}'.center(25))\n",
    "    elif op == 2:\n",
    "        n1 = int(input('Digite um número: '))\n",
    "        n2 = int(input('Digite um segundo número: '))\n",
    "        print(f'{n1} - {n2} = {subtrai(n1,n2)}'.center(25))\n",
    "    elif op == 3:\n",
    "        n1 = int(input('Digite um número: '))\n",
    "        n2 = int(input('Digite um segundo número: '))\n",
    "        print(f'{n1} * {n2} = {multiplica(n1,n2)}'.center(25))\n",
    "    elif op == 4:\n",
    "        n1 = int(input('Digite um número: '))\n",
    "        n2 = int(input('Digite um segundo número: '))\n",
    "        print(f'{n1} / {n2} = {divide(n1,n2)}'.center(25))\n",
    "    "
   ]
  },
  {
   "cell_type": "code",
   "execution_count": 37,
   "metadata": {},
   "outputs": [],
   "source": [
    "class Pessoa():\n",
    "\n",
    "    def __init__(self, n, i):\n",
    "        self.nome = n\n",
    "        self.idade = i\n",
    "\n",
    "    def apresentacao(self):\n",
    "        print('Seja bem vindo ao sistema SENAC!')\n",
    "    \n",
    "class PessoaFisica():\n",
    "    \n",
    "    def __init__(self, n, i, cpf):\n",
    "        self.nome = n\n",
    "        self.idade = i\n",
    "        self.cpf = cpf\n",
    "\n",
    "    def apresentacao(self):\n",
    "        print('Seja bem ao sistema SENAC!')\n",
    "    \n",
    "    def impostoDeRenda(self, *salario):\n",
    "        s = sum(salario)\n",
    "        ir = s*0.015\n",
    "        print('O valor do seu imposto de renda', ir)\n",
    "        return ir\n",
    "\n",
    "    \n",
    "class PessoaJuridica():\n",
    "    \n",
    "    def __init__(self, n, i, cnpj): \n",
    "        self.nome = n\n",
    "        self.idade = i\n",
    "        self.cnpj = cnpj\n",
    "\n",
    "    def apresentacao(self):\n",
    "        print('Seja bem ao Python!')\n",
    "\n",
    "    def impostoDeRenda(self, salario):\n",
    "        ir = salario*0.10\n",
    "        print('O valor do seu imposto de renda é R$', ir)\n",
    "        return ir   "
   ]
  },
  {
   "cell_type": "code",
   "execution_count": 48,
   "metadata": {},
   "outputs": [],
   "source": [
    "nome = input('Nome: ')\n",
    "idade = int(input('Idade: '))\n",
    "cnpj = int(input('CNPJ: '))\n",
    "serumaninho = Pessoa(nome, idade)\n",
    "comunidade = PessoaJuridica(nome, idade, cnpj)"
   ]
  },
  {
   "cell_type": "code",
   "execution_count": 45,
   "metadata": {},
   "outputs": [
    {
     "data": {
      "text/plain": [
       "'Paulo'"
      ]
     },
     "execution_count": 45,
     "metadata": {},
     "output_type": "execute_result"
    }
   ],
   "source": [
    "serumaninho.nome"
   ]
  },
  {
   "cell_type": "code",
   "execution_count": 46,
   "metadata": {},
   "outputs": [
    {
     "data": {
      "text/plain": [
       "34"
      ]
     },
     "execution_count": 46,
     "metadata": {},
     "output_type": "execute_result"
    }
   ],
   "source": [
    "serumaninho.idade"
   ]
  },
  {
   "cell_type": "code",
   "execution_count": 47,
   "metadata": {},
   "outputs": [
    {
     "name": "stdout",
     "output_type": "stream",
     "text": [
      "Seja bem vindo ao sistema SENAC!\n"
     ]
    }
   ],
   "source": [
    "serumaninho.apresentacao()"
   ]
  },
  {
   "cell_type": "code",
   "execution_count": 49,
   "metadata": {},
   "outputs": [
    {
     "name": "stdout",
     "output_type": "stream",
     "text": [
      "O valor do seu imposto de renda é R$ 150.0\n",
      "FIM!\n"
     ]
    }
   ],
   "source": [
    "salario = float(input('Receita: '))\n",
    "comunidade.impostoDeRenda(salario)\n",
    "print('FIM!')"
   ]
  },
  {
   "cell_type": "code",
   "execution_count": null,
   "metadata": {},
   "outputs": [],
   "source": []
  }
 ],
 "metadata": {
  "kernelspec": {
   "display_name": "Python 3.10.0 64-bit",
   "language": "python",
   "name": "python3"
  },
  "language_info": {
   "codemirror_mode": {
    "name": "ipython",
    "version": 3
   },
   "file_extension": ".py",
   "mimetype": "text/x-python",
   "name": "python",
   "nbconvert_exporter": "python",
   "pygments_lexer": "ipython3",
   "version": "3.10.0"
  },
  "orig_nbformat": 4,
  "vscode": {
   "interpreter": {
    "hash": "32b087ebe7d51fca6931e9bc956754ea46a9bf5139b676961814778e7c952172"
   }
  }
 },
 "nbformat": 4,
 "nbformat_minor": 2
}
