{
 "cells": [
  {
   "cell_type": "markdown",
   "metadata": {},
   "source": [
    "DESAFIO"
   ]
  },
  {
   "cell_type": "code",
   "execution_count": 8,
   "metadata": {},
   "outputs": [
    {
     "name": "stdout",
     "output_type": "stream",
     "text": [
      "Telefonou para a vítima?\n",
      "Esteve no local do crime?\n",
      "Mora perto da vítima?\n",
      "Devia para vítima?\n",
      "Já trabalhou com a vítima?\n",
      "Inocente\n"
     ]
    }
   ],
   "source": [
    "quest = {\n",
    "\n",
    "    \"pergunta_1\": \"Telefonou para a vítima?\",\n",
    "    \"pergunta_2\": \"Esteve no local do crime?\",\n",
    "    \"pergunta_3\": \"Mora perto da vítima?\",\n",
    "    \"pergunta_4\": \"Devia para vítima?\",\n",
    "    \"pergunta_5\": \"Já trabalhou com a vítima?\",\n",
    "\n",
    "}\n",
    "\n",
    "sim = 0\n",
    "\n",
    "for pergunta in quest.values():\n",
    "    print(f'{pergunta}')\n",
    "    resposta = input('').lower()\n",
    "    if resposta == 'sim':\n",
    "        sim += 1\n",
    "    \n",
    "\n",
    "if sim <= 1:\n",
    "    print('Inocente')\n",
    "elif sim == 2:\n",
    "    print('Suspeito Grau 1')\n",
    "elif 3 <= sim <= 4:\n",
    "    print('Suspeito Grau 2')\n",
    "else:\n",
    "    print('Suspeito Grau 3: Principal Suspeito')"
   ]
  },
  {
   "cell_type": "code",
   "execution_count": 45,
   "metadata": {},
   "outputs": [
    {
     "name": "stdout",
     "output_type": "stream",
     "text": [
      "****************************************\n",
      "  QTD. VENDEDORES    |     COMISSÃO   \n",
      "****************************************\n",
      "         2           |   $200 - $299  \n",
      "****************************************\n",
      "         2           |   $300 - $399  \n",
      "****************************************\n",
      "         1           |   $400 - $499  \n",
      "****************************************\n",
      "         1           |   $500 - $599  \n",
      "****************************************\n",
      "         1           |   $600 - $699  \n",
      "****************************************\n",
      "         1           |   $700 - $799  \n",
      "****************************************\n",
      "         1           |   $800 - $899  \n",
      "****************************************\n",
      "         0           |   $900 - $999  \n",
      "****************************************\n",
      "         3           | $1000 em diante\n",
      "****************************************\n"
     ]
    }
   ],
   "source": [
    "comissao = list()\n",
    "cont1, cont2, cont3, cont4, cont5, cont6, cont7, cont8, cont9 = 0, 0, 0, 0, 0, 0, 0, 0, 0\n",
    "\n",
    "while True:\n",
    "    comissao.append(float(input('Comissão da semana ($): '))*.09 + 200)\n",
    "    if comissao[-1] == 200:\n",
    "        break\n",
    "    elif 200 <= comissao[-1] <= 299 :\n",
    "        cont1 += 1\n",
    "    elif 300 <= comissao[-1] <= 399 :\n",
    "        cont2 += 1\n",
    "    elif 400 <= comissao[-1] <= 499 :\n",
    "        cont3 += 1\n",
    "    elif 500 <= comissao[-1] <= 599 :\n",
    "        cont4 += 1\n",
    "    elif 600 <= comissao[-1] <= 699 :\n",
    "        cont5 += 1\n",
    "    elif 700 <= comissao[-1] <= 799 :\n",
    "        cont6 += 1\n",
    "    elif 800 <= comissao[-1] <= 899 :\n",
    "        cont7 += 1\n",
    "    elif 900 <= comissao[-1] <= 899 :\n",
    "        cont8 += 1\n",
    "    else:\n",
    "        cont9 += 1\n",
    "\n",
    "print('*'*40)\n",
    "print('QTD. VENDEDORES'.center(20),'|','COMISSÃO'.center(15))\n",
    "print('*'*40)\n",
    "print(str(cont1).center(20),'|', '$200 - $299'.center(15))\n",
    "print('*'*40)\n",
    "print(str(cont2).center(20),'|', '$300 - $399'.center(15))\n",
    "print('*'*40)\n",
    "print(str(cont3).center(20),'|', '$400 - $499'.center(15))\n",
    "print('*'*40)\n",
    "print(str(cont4).center(20),'|', '$500 - $599'.center(15))\n",
    "print('*'*40)\n",
    "print(str(cont5).center(20),'|', '$600 - $699'.center(15))\n",
    "print('*'*40)\n",
    "print(str(cont6).center(20),'|', '$700 - $799'.center(15))\n",
    "print('*'*40)\n",
    "print(str(cont7).center(20),'|', '$800 - $899'.center(15))\n",
    "print('*'*40)\n",
    "print(str(cont8).center(20),'|', '$900 - $999'.center(15))\n",
    "print('*'*40)\n",
    "print(str(cont9).center(20),'|', '$1000 em diante'.center(15))\n",
    "print('*'*40)\n"
   ]
  },
  {
   "cell_type": "code",
   "execution_count": 46,
   "metadata": {},
   "outputs": [
    {
     "name": "stdout",
     "output_type": "stream",
     "text": [
      "[10.0, 9.0, 8.0, 7.0, 6.0, 5.0, 4.0, 3.0, 2.0, 1.0]\n"
     ]
    }
   ],
   "source": [
    "vetor = list()\n",
    "\n",
    "for _ in range(10):\n",
    "    vetor.append(float(input('')))\n",
    "\n",
    "vetor.reverse()\n",
    "\n",
    "print(vetor)"
   ]
  },
  {
   "cell_type": "code",
   "execution_count": 52,
   "metadata": {},
   "outputs": [
    {
     "name": "stdout",
     "output_type": "stream",
     "text": [
      " Há 1 alunos com média maior ou igual a 7\n"
     ]
    }
   ],
   "source": [
    "alunos = list()\n",
    "media = list()\n",
    "\n",
    "for i in range(10):\n",
    "    notas = []\n",
    "    for j in range(4):\n",
    "        notas.append(float(input(f'Digite a {j+1}ª nota do {i+1}º aluno: ')))\n",
    "    alunos.append(notas)\n",
    "\n",
    "for aluno in alunos:\n",
    "    media.append(sum(aluno)/len(aluno))\n",
    "\n",
    "print(f' Há {sum(map(lambda x : x >= 7, media))} aluno(s) com média maior ou igual a 7')\n"
   ]
  }
 ],
 "metadata": {
  "kernelspec": {
   "display_name": "Python 3.10.0 64-bit",
   "language": "python",
   "name": "python3"
  },
  "language_info": {
   "codemirror_mode": {
    "name": "ipython",
    "version": 3
   },
   "file_extension": ".py",
   "mimetype": "text/x-python",
   "name": "python",
   "nbconvert_exporter": "python",
   "pygments_lexer": "ipython3",
   "version": "3.10.0"
  },
  "orig_nbformat": 4,
  "vscode": {
   "interpreter": {
    "hash": "32b087ebe7d51fca6931e9bc956754ea46a9bf5139b676961814778e7c952172"
   }
  }
 },
 "nbformat": 4,
 "nbformat_minor": 2
}
